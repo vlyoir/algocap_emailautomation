{
 "nbformat": 4,
 "nbformat_minor": 2,
 "metadata": {
  "language_info": {
   "name": "python",
   "codemirror_mode": {
    "name": "ipython",
    "version": 3
   },
   "version": "3.7.7-final"
  },
  "orig_nbformat": 2,
  "file_extension": ".py",
  "mimetype": "text/x-python",
  "name": "python",
  "npconvert_exporter": "python",
  "pygments_lexer": "ipython3",
  "version": 3,
  "kernelspec": {
   "name": "capstone",
   "display_name": "capstone"
  }
 },
 "cells": [
  {
   "cell_type": "code",
   "execution_count": null,
   "metadata": {},
   "outputs": [],
   "source": [
    "def extract_summary(file_path=\"data_input/data.csv\", id=['936','1178']):\n",
    "  \"\"\"   \n",
    "  Extract all relevant information, containing 6 variables\n",
    "  start_date, end_date, total_spent, total_conversion, cpc_1, cpc_2\n",
    "  \"\"\"\n",
    "  fb = pd.read_csv(file_path)\n",
    "  campaigns = fb[fb['campaign_id'].isin(id)]\n",
    "  campaigns = campaigns[campaigns.spent > 0]\n",
    "\n",
    "  # Make sure to passed in appropriate preprocessing before extracting the start and end date\n",
    "  campaigns['reporting_start'] = ___\n",
    "  start_date = ___.min().strftime(format=\"%d %b %Y\")\n",
    "  end_date = ___.max().strftime(format=\"%d %b %Y\")\n",
    "\n",
    "  total_spent = int(___.sum())\n",
    "  total_conversion = int(___.sum())\n",
    "\n",
    "  # Create a cost per conversion dictionary per campaign\n",
    "  # Cost per conversion is spent divided by total conversion\n",
    "  cpc = campaigns.groupby(['campaign_id'])[[___, ___]].sum()\n",
    "  cpc['CPC'] = cpc[___]/cpc[___]\n",
    "  cpc_each = dict()\n",
    "  for each in id:\n",
    "    cpc_each[each] = round(float(cpc[cpc.index == each]['CPC']), 2)\n",
    "\n",
    "  return {\n",
    "    \"start_date\": start_date,\n",
    "    \"end_date\": end_date,\n",
    "    \"total_spent\": total_spent,\n",
    "    \"total_conversion\": total_conversion,\n",
    "    \"cpc\": cpc_each\n",
    "  }"
   ]
  },
  {
   "cell_type": "code",
   "execution_count": 8,
   "metadata": {},
   "outputs": [
    {
     "output_type": "execute_result",
     "data": {
      "text/plain": "       ad_id reporting_start reporting_end campaign_id fb_campaign_id    age  \\\n55    734210      25/08/2017    25/08/2017         936         108654  30-34   \n56    734215      26/08/2017    26/08/2017         936         108655  30-34   \n60    734290      26/08/2017    26/08/2017         936         108668  30-34   \n63    734352      27/08/2017    27/08/2017         936         108678  35-39   \n64    734361      29/08/2017    29/08/2017         936         108680  35-39   \n..       ...             ...           ...         ...            ...    ...   \n756  1121585      20/08/2017    20/08/2017        1178         144621  40-44   \n757  1121589      20/08/2017    20/08/2017        1178         144622  45-49   \n758  1121590      20/08/2017    20/08/2017        1178         144622  45-49   \n759  1121592      20/08/2017    20/08/2017        1178         144622  45-49   \n760  1121593      26/08/2017    26/08/2017        1178         144622  45-49   \n\n    gender  interest1  interest2  interest3  impressions  clicks       spent  \\\n55       M         10         16         13      13329.0       4    5.630000   \n56       M         15         19         17      13659.0       3    3.840000   \n60       M         29         32         35       5374.0       1    1.040000   \n63       M         10         11         16       4423.0       1    1.460000   \n64       M         16         19         19      12382.0       2    2.840000   \n..     ...        ...        ...        ...          ...     ...         ...   \n756      M         66         72         68       9773.0       1    1.460000   \n757      M         10         16         11     464036.0      77  123.550000   \n758      M         10         16         15     478480.0      75  135.750001   \n759      M         10         14         11     428812.0      66  116.880000   \n760      M         10         16         16    1177535.0     221  365.660001   \n\n     total_conversion  approved_conversion  \n55                1.0                  1.0  \n56                1.0                  0.0  \n60                4.0                  0.0  \n63                1.0                  1.0  \n64                1.0                  1.0  \n..                ...                  ...  \n756               1.0                  0.0  \n757               3.0                  1.0  \n758               3.0                  1.0  \n759               4.0                  2.0  \n760              15.0                  3.0  \n\n[523 rows x 15 columns]",
      "text/html": "<div>\n<style scoped>\n    .dataframe tbody tr th:only-of-type {\n        vertical-align: middle;\n    }\n\n    .dataframe tbody tr th {\n        vertical-align: top;\n    }\n\n    .dataframe thead th {\n        text-align: right;\n    }\n</style>\n<table border=\"1\" class=\"dataframe\">\n  <thead>\n    <tr style=\"text-align: right;\">\n      <th></th>\n      <th>ad_id</th>\n      <th>reporting_start</th>\n      <th>reporting_end</th>\n      <th>campaign_id</th>\n      <th>fb_campaign_id</th>\n      <th>age</th>\n      <th>gender</th>\n      <th>interest1</th>\n      <th>interest2</th>\n      <th>interest3</th>\n      <th>impressions</th>\n      <th>clicks</th>\n      <th>spent</th>\n      <th>total_conversion</th>\n      <th>approved_conversion</th>\n    </tr>\n  </thead>\n  <tbody>\n    <tr>\n      <th>55</th>\n      <td>734210</td>\n      <td>25/08/2017</td>\n      <td>25/08/2017</td>\n      <td>936</td>\n      <td>108654</td>\n      <td>30-34</td>\n      <td>M</td>\n      <td>10</td>\n      <td>16</td>\n      <td>13</td>\n      <td>13329.0</td>\n      <td>4</td>\n      <td>5.630000</td>\n      <td>1.0</td>\n      <td>1.0</td>\n    </tr>\n    <tr>\n      <th>56</th>\n      <td>734215</td>\n      <td>26/08/2017</td>\n      <td>26/08/2017</td>\n      <td>936</td>\n      <td>108655</td>\n      <td>30-34</td>\n      <td>M</td>\n      <td>15</td>\n      <td>19</td>\n      <td>17</td>\n      <td>13659.0</td>\n      <td>3</td>\n      <td>3.840000</td>\n      <td>1.0</td>\n      <td>0.0</td>\n    </tr>\n    <tr>\n      <th>60</th>\n      <td>734290</td>\n      <td>26/08/2017</td>\n      <td>26/08/2017</td>\n      <td>936</td>\n      <td>108668</td>\n      <td>30-34</td>\n      <td>M</td>\n      <td>29</td>\n      <td>32</td>\n      <td>35</td>\n      <td>5374.0</td>\n      <td>1</td>\n      <td>1.040000</td>\n      <td>4.0</td>\n      <td>0.0</td>\n    </tr>\n    <tr>\n      <th>63</th>\n      <td>734352</td>\n      <td>27/08/2017</td>\n      <td>27/08/2017</td>\n      <td>936</td>\n      <td>108678</td>\n      <td>35-39</td>\n      <td>M</td>\n      <td>10</td>\n      <td>11</td>\n      <td>16</td>\n      <td>4423.0</td>\n      <td>1</td>\n      <td>1.460000</td>\n      <td>1.0</td>\n      <td>1.0</td>\n    </tr>\n    <tr>\n      <th>64</th>\n      <td>734361</td>\n      <td>29/08/2017</td>\n      <td>29/08/2017</td>\n      <td>936</td>\n      <td>108680</td>\n      <td>35-39</td>\n      <td>M</td>\n      <td>16</td>\n      <td>19</td>\n      <td>19</td>\n      <td>12382.0</td>\n      <td>2</td>\n      <td>2.840000</td>\n      <td>1.0</td>\n      <td>1.0</td>\n    </tr>\n    <tr>\n      <th>...</th>\n      <td>...</td>\n      <td>...</td>\n      <td>...</td>\n      <td>...</td>\n      <td>...</td>\n      <td>...</td>\n      <td>...</td>\n      <td>...</td>\n      <td>...</td>\n      <td>...</td>\n      <td>...</td>\n      <td>...</td>\n      <td>...</td>\n      <td>...</td>\n      <td>...</td>\n    </tr>\n    <tr>\n      <th>756</th>\n      <td>1121585</td>\n      <td>20/08/2017</td>\n      <td>20/08/2017</td>\n      <td>1178</td>\n      <td>144621</td>\n      <td>40-44</td>\n      <td>M</td>\n      <td>66</td>\n      <td>72</td>\n      <td>68</td>\n      <td>9773.0</td>\n      <td>1</td>\n      <td>1.460000</td>\n      <td>1.0</td>\n      <td>0.0</td>\n    </tr>\n    <tr>\n      <th>757</th>\n      <td>1121589</td>\n      <td>20/08/2017</td>\n      <td>20/08/2017</td>\n      <td>1178</td>\n      <td>144622</td>\n      <td>45-49</td>\n      <td>M</td>\n      <td>10</td>\n      <td>16</td>\n      <td>11</td>\n      <td>464036.0</td>\n      <td>77</td>\n      <td>123.550000</td>\n      <td>3.0</td>\n      <td>1.0</td>\n    </tr>\n    <tr>\n      <th>758</th>\n      <td>1121590</td>\n      <td>20/08/2017</td>\n      <td>20/08/2017</td>\n      <td>1178</td>\n      <td>144622</td>\n      <td>45-49</td>\n      <td>M</td>\n      <td>10</td>\n      <td>16</td>\n      <td>15</td>\n      <td>478480.0</td>\n      <td>75</td>\n      <td>135.750001</td>\n      <td>3.0</td>\n      <td>1.0</td>\n    </tr>\n    <tr>\n      <th>759</th>\n      <td>1121592</td>\n      <td>20/08/2017</td>\n      <td>20/08/2017</td>\n      <td>1178</td>\n      <td>144622</td>\n      <td>45-49</td>\n      <td>M</td>\n      <td>10</td>\n      <td>14</td>\n      <td>11</td>\n      <td>428812.0</td>\n      <td>66</td>\n      <td>116.880000</td>\n      <td>4.0</td>\n      <td>2.0</td>\n    </tr>\n    <tr>\n      <th>760</th>\n      <td>1121593</td>\n      <td>26/08/2017</td>\n      <td>26/08/2017</td>\n      <td>1178</td>\n      <td>144622</td>\n      <td>45-49</td>\n      <td>M</td>\n      <td>10</td>\n      <td>16</td>\n      <td>16</td>\n      <td>1177535.0</td>\n      <td>221</td>\n      <td>365.660001</td>\n      <td>15.0</td>\n      <td>3.0</td>\n    </tr>\n  </tbody>\n</table>\n<p>523 rows × 15 columns</p>\n</div>"
     },
     "metadata": {},
     "execution_count": 8
    }
   ],
   "source": [
    "import pandas as pd\n",
    "\n",
    "file_path=\"data_input/data.csv\"\n",
    "id=['936','1178']\n",
    "\n",
    "fb = pd.read_csv(file_path)\n",
    "campaigns = fb[fb['campaign_id'].isin(id)]\n",
    "campaigns = campaigns[campaigns.spent > 0]\n",
    "campaigns"
   ]
  },
  {
   "cell_type": "code",
   "execution_count": 11,
   "metadata": {},
   "outputs": [],
   "source": [
    "campaigns['reporting_start'] = pd.to_datetime(campaigns['reporting_start'])\n",
    "start_date = campaigns['reporting_start'].min().strftime(format=\"%d %b %Y\")\n",
    "end_date = campaigns['reporting_start'].max().strftime(format=\"%d %b %Y\")"
   ]
  },
  {
   "cell_type": "code",
   "execution_count": 15,
   "metadata": {},
   "outputs": [],
   "source": [
    "total_spent = int(campaigns['spent'].sum())\n",
    "total_conversion = int(campaigns['total_conversion'].sum())"
   ]
  },
  {
   "cell_type": "code",
   "execution_count": 16,
   "metadata": {},
   "outputs": [],
   "source": [
    "cpc = campaigns.groupby(['campaign_id'])      [['spent', 'total_conversion']].sum()\n",
    "cpc['CPC'] = cpc['spent']/cpc['total_conversion']\n",
    "cpc_each = dict()\n",
    "for each in id:\n",
    "  cpc_each[each] = round(float(cpc[cpc.index == each]['CPC']), 2)"
   ]
  },
  {
   "cell_type": "code",
   "execution_count": null,
   "metadata": {},
   "outputs": [],
   "source": [
    "composed = template.substitute(\n",
    "    PERSON_NAME=name,\n",
    "    START_DATE=data_dict[___],\n",
    "    END_DATE=data_dict[___],\n",
    "    TOTAL_SPENT=\"{:,}\".format(data_dict[___]),\n",
    "    TOTAL_CONVERSION=\"{:,}\".format(data_dict[___]),\n",
    "    CPC=unroll_sentence(data_dict['cpc']),\n",
    "    GITHUB_LINK='https://github.com/tiaradwiputri/fire-capstone'"
   ]
  }
 ]
}